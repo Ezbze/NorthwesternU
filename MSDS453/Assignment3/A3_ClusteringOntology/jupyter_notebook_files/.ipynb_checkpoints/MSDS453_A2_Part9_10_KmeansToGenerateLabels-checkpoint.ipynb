{
 "cells": [
  {
   "cell_type": "code",
   "execution_count": 67,
   "metadata": {},
   "outputs": [],
   "source": [
    "#(1) Bring in the three matrices from the second research/programming assignment. Work with one matrix at \n",
    "#    a time in completing multivariate analysis activities below. It is convenient to have columns of matrices \n",
    "#    associated with short character strings (say, eight characters or less), so that documents may be easily \n",
    "#    identified when reviewing the results of multivariate analyses. Also, for Approaches 1 and 2, \n",
    "#    it is convenient to have rows identified by character strings for the terms. \n",
    "#    (And as stated earlier, it will be easier to complete the terms-as-objects portions of this assignment \n",
    "#     if you work with unigrams rather than bigrams, trigrams, or n-grams.)\n",
    "#(2) Using matrices for Approaches 1, 2, and 3, perform partitioned cluster analysis (K-means) with documents \n",
    "#    as objects. Utilize objective methods for determining the number of clusters K. \n",
    "#    Prepare summary lists of documents within each cluster. If there is a large number of documents, \n",
    "#    show a sample of the documents in lists. Describe the results."
   ]
  },
  {
   "cell_type": "code",
   "execution_count": 154,
   "metadata": {},
   "outputs": [],
   "source": [
    "import multiprocessing\n",
    "import re,string\n",
    "from nltk.corpus import stopwords\n",
    "from nltk.stem import PorterStemmer\n",
    "import matplotlib.pyplot as plt\n",
    "import matplotlib.patches as mpatches\n",
    "\n",
    "\n",
    "import json\n",
    "from sklearn.feature_extraction.text import TfidfVectorizer, CountVectorizer\n",
    "from sklearn.model_selection import train_test_split, KFold\n",
    "\n",
    "import pandas as pd\n",
    "import os\n",
    "\n",
    "from gensim.models import Word2Vec\n",
    "from gensim.models.doc2vec import Doc2Vec, TaggedDocument\n",
    "\n",
    "\n",
    "from sklearn.ensemble import RandomForestClassifier\n",
    "from sklearn import metrics\n",
    "from sklearn.cluster import KMeans\n",
    "\n",
    "from sklearn.preprocessing import MinMaxScaler\n",
    "from sklearn.manifold import TSNE\n",
    "from sklearn.decomposition import PCA\n",
    "\n",
    "import numpy as np\n",
    "from nltk.stem import WordNetLemmatizer\n",
    "#Functionality to turn stemming on or off\n",
    "STEMMING = True  # judgment call, parsed documents more readable if False\n",
    "MAX_NGRAM_LENGTH = 1  # try 1 and 2 and see which yields better modeling results\n",
    "VECTOR_LENGTH = 100  # set vector length for TF-IDF and Doc2Vec\n",
    "DISPLAYMAX = 10 # Dispaly count for head() or tail() sorted values\n",
    "DROP_STOPWORDS = False\n",
    "SET_RANDOM = 9999\n",
    "NUMBER_OF_CLUSTERS = 2"
   ]
  },
  {
   "cell_type": "code",
   "execution_count": 2,
   "metadata": {},
   "outputs": [
    {
     "name": "stdout",
     "output_type": "stream",
     "text": [
      "\n",
      "Number of processor cores: 16\n"
     ]
    }
   ],
   "source": [
    "##############################################################################\n",
    "#  Number of cpu cores\n",
    "##############################################################################\n",
    "cores = multiprocessing.cpu_count()\n",
    "print(\"\\nNumber of processor cores:\", cores)\n"
   ]
  },
  {
   "cell_type": "code",
   "execution_count": 3,
   "metadata": {},
   "outputs": [],
   "source": [
    "#############################################################################\n",
    "#  Create document labels \n",
    "############################################################################\n",
    "def create_label(text):\n",
    "    #print(text)\n",
    "    text = text.replace('.html','')\n",
    "    #print(text)\n",
    "    text = text.replace('.htm','')\n",
    "    regex = re.compile('[^a-zA-Z]')\n",
    "    regex.sub('', text)\n",
    "    return text"
   ]
  },
  {
   "cell_type": "code",
   "execution_count": 4,
   "metadata": {},
   "outputs": [],
   "source": [
    "cluster_dict = {\n",
    "    0:\"safety\",\n",
    "    1:\"technology\"\n",
    "}"
   ]
  },
  {
   "cell_type": "code",
   "execution_count": 5,
   "metadata": {},
   "outputs": [],
   "source": [
    "def createCategory(text):\n",
    "    if '-safe-' in text:\n",
    "        return 'safety'\n",
    "    return 'technology'"
   ]
  },
  {
   "cell_type": "code",
   "execution_count": 6,
   "metadata": {},
   "outputs": [],
   "source": [
    "###############################################################################\n",
    "### Function to process documents\n",
    "###############################################################################\n",
    "def clean_doc(doc): \n",
    "    # split document into individual words\n",
    "    tokens=doc.split()\n",
    "    re_punc = re.compile('[%s]' % re.escape(string.punctuation))\n",
    "    # remove punctuation from each word\n",
    "    tokens = [re_punc.sub('', w) for w in tokens]\n",
    "    # remove remaining tokens that are not alphabetic\n",
    "    tokens = [word for word in tokens if word.isalpha()]\n",
    "    # # filter out short tokens\n",
    "    tokens = [word for word in tokens if len(word) > 4]\n",
    "    # #lowercase all words\n",
    "    tokens = [word.lower() for word in tokens]\n",
    "    # # filter out stop words\n",
    "    stop_words = set(stopwords.words('english'))\n",
    "    tokens = [w for w in tokens if not w in stop_words]         \n",
    "    # # word stemming Commented\n",
    "    if STEMMING:   \n",
    "        lem = WordNetLemmatizer()\n",
    "        tokens = [lem.lemmatize(token) for token in tokens]\n",
    "    return tokens"
   ]
  },
  {
   "cell_type": "code",
   "execution_count": 7,
   "metadata": {},
   "outputs": [],
   "source": [
    "documents=[]\n",
    "text_body=[]\n",
    "text_titles = []\n",
    "categories = []\n",
    "regex = re.compile('[^a-zA-Z]')\n",
    "with open('autonomous_vehicles_safety_corpus.jl') as json_file:\n",
    "     data = json.load(json_file)\n",
    "     for p in data:\n",
    "         text_body.append(p['BODY'])\n",
    "         text_titles.append(p['TITLE'][0:8])\n",
    "         documents.append(create_label(p['FILENAME']))\n",
    "         categories.append(createCategory(p['FILENAME']))"
   ]
  },
  {
   "cell_type": "code",
   "execution_count": 9,
   "metadata": {},
   "outputs": [],
   "source": [
    "################################\n",
    "# Final Processed File\n",
    "############################\n",
    "#empty list to store processed documents\n",
    "processed_text=[]\n",
    "#for loop to process the text to the processed_text list\n",
    "for i in text_body:\n",
    "    text=clean_doc(i)\n",
    "    processed_text.append(text)\n",
    "    \n",
    "#stitch back together individual words to reform body of text\n",
    "final_processed_text=[]\n",
    "\n",
    "for i in processed_text:\n",
    "    temp_DSI=i[0]\n",
    "    for k in range(1,len(i)):\n",
    "        temp_DSI=temp_DSI+' '+i[k]\n",
    "    final_processed_text.append(temp_DSI)"
   ]
  },
  {
   "cell_type": "markdown",
   "metadata": {},
   "source": [
    "<h3>(2) Using matrices for Approaches 1, 2, and 3, perform partitioned cluster analysis (K-means) \n",
    "with documents as objects. Utilize objective methods for determining the number of clusters K. \n",
    "Prepare summary lists of documents within each cluster. If there is a large number of documents, \n",
    "show a sample of the documents in lists. Describe the results.</h3>"
   ]
  },
  {
   "cell_type": "markdown",
   "metadata": {},
   "source": [
    "<h5>(2) Approach 1 - CountVectorizer with Kmeans with documents as Objects</h5>"
   ]
  },
  {
   "cell_type": "code",
   "execution_count": 10,
   "metadata": {},
   "outputs": [
    {
     "name": "stdout",
     "output_type": "stream",
     "text": [
      "\n",
      "\t\tCountVectorizer + Kmeans with documents as Objects\n"
     ]
    }
   ],
   "source": [
    "#####################################################################################################\n",
    "### Count Vectorization\n",
    "#####################################################################################################\n",
    "print('\\n\\t\\tCountVectorizer + Kmeans with documents as Objects')\n",
    "\n",
    "count_vectorizer2A1 = CountVectorizer(ngram_range = (1, MAX_NGRAM_LENGTH), max_features = VECTOR_LENGTH)\n",
    "count_vectors_matrix2A1 = count_vectorizer2A1.fit_transform(documents)\n",
    "\n",
    "kmCV2A1 = KMeans(n_clusters=NUMBER_OF_CLUSTERS, random_state=89)\n",
    "kmCV2A1.fit(count_vectors_matrix2A1)\n",
    "clustersCv2A1 = kmCV2A1.labels_.tolist()\n",
    "\n",
    "y1 = clustersCv2A1\n",
    "X1 = count_vectors_matrix2A1\n",
    "\n",
    "termsCv2A1 = count_vectorizer2A1.get_feature_names()\n"
   ]
  },
  {
   "cell_type": "code",
   "execution_count": 176,
   "metadata": {},
   "outputs": [
    {
     "data": {
      "image/png": "[encoded data removed]",
      "text/plain": [
       "<Figure size 432x288 with 1 Axes>"
      ]
     },
     "metadata": {
      "needs_background": "light"
     },
     "output_type": "display_data"
    }
   ],
   "source": [
    "x = count_vectors_matrix2A1.todense()\n",
    "\n",
    "labels2A2 = kmCV2A1.fit_predict(count_vectors_matrix2A1)\n",
    "\n",
    "reduced_data = PCA().fit_transform(x)\n",
    "\n",
    "green_patch = mpatches.Patch(color=\"#FFFF00\", label='Cluster 0')\n",
    "yellow_patch = mpatches.Patch(color='#008000', label='Cluster 1')\n",
    "\n",
    "plt.figure\n",
    "cluster_colors = [\"#FFFF00\", \"#008000\"]\n",
    "color = [cluster_colors[i] for i in labels2A2]\n",
    "plt.scatter(reduced_data[:, 0], reduced_data[:, 1], c=color)\n",
    "plt.legend(handles=[green_patch, yellow_patch])\n",
    "plt.show()"
   ]
  },
  {
   "cell_type": "code",
   "execution_count": 177,
   "metadata": {},
   "outputs": [
    {
     "name": "stdout",
     "output_type": "stream",
     "text": [
      "2A1 CountVectorizer + Kmeans with documents as Objects Top documents per cluster:\n",
      "Cluster 0: curbanplanning cvehiclegoogle cdriverlesscar cubercities treportdata\n",
      "Cluster 1: courcities wthisweek treportdata teurope2017 tfooddelivery\n"
     ]
    }
   ],
   "source": [
    "print(\"2A1 CountVectorizer + Kmeans with documents as Objects Top documents per cluster:\")\n",
    "order_centroids2A1 = kmCV2A1.cluster_centers_.argsort()[:, ::-1]\n",
    "\n",
    "for i in range(NUMBER_OF_CLUSTERS):\n",
    "    top_ten_words2A1 = [termsCv2A1[ind] for ind in order_centroids2A1[i, :5]]\n",
    "    print(\"Cluster {}: {}\".format(i, ' '.join(top_ten_words2A1)))"
   ]
  },
  {
   "cell_type": "markdown",
   "metadata": {},
   "source": [
    "<h5>(2) Approach 2 - TF-IDF Vectorization with Kmeans with documents as Objects</h5>"
   ]
  },
  {
   "cell_type": "code",
   "execution_count": 179,
   "metadata": {},
   "outputs": [
    {
     "name": "stdout",
     "output_type": "stream",
     "text": [
      "\n",
      "TF-IDF Vectorization with Kmeans with documents as Objects. . .\n"
     ]
    },
    {
     "data": {
      "image/png": "[encoded data removed]",
      "text/plain": [
       "<Figure size 432x288 with 1 Axes>"
      ]
     },
     "metadata": {
      "needs_background": "light"
     },
     "output_type": "display_data"
    }
   ],
   "source": [
    "print('\\nTF-IDF Vectorization with Kmeans with documents as Objects. . .')\n",
    "tfidf2A2 = TfidfVectorizer(ngram_range=(1,1), min_df=0.0025)\n",
    "tfidf2A2_matrix = tfidf2A2.fit_transform(documents)\n",
    "\n",
    "\n",
    "'''create k-means model with custom config '''\n",
    "km2A2 = KMeans(n_clusters=NUMBER_OF_CLUSTERS, random_state=89,\n",
    "                          precompute_distances=\"auto\",n_jobs=-1)\n",
    "\n",
    "labels2A2 = km2A2.fit_predict(tfidf2A2_matrix)\n",
    "\n",
    "x = tfidf_matrix.todense()\n",
    "\n",
    "terms2A2 = tfidf2A2.get_feature_names()\n",
    "reduced_data = PCA().fit_transform(x)\n",
    "green_patch = mpatches.Patch(color=\"#FFFF00\", label='Cluster 0')\n",
    "yellow_patch = mpatches.Patch(color='#008000', label='Cluster 1')\n",
    "\n",
    "plt.figure\n",
    "cluster_colors = [\"#FFFF00\", \"#008000\"]\n",
    "color = [cluster_colors[i] for i in labels2A2]\n",
    "plt.scatter(reduced_data[:, 0], reduced_data[:, 1], c=color)\n",
    "plt.legend(handles=[green_patch, yellow_patch])\n",
    "plt.show()"
   ]
  },
  {
   "cell_type": "code",
   "execution_count": 180,
   "metadata": {},
   "outputs": [
    {
     "name": "stdout",
     "output_type": "stream",
     "text": [
      "2A2 TF-IDF Vectorization with Kmeans with documents as Objects Top documents per cluster:\n",
      "Cluster 0: cdriverlesscar courcities treportdata curbanplanning cvehiclegoogle\n",
      "Cluster 1: cubercities wthisweek tdetroit2017 courcities cproscons\n"
     ]
    }
   ],
   "source": [
    "print(\"2A2 TF-IDF Vectorization with Kmeans with documents as Objects Top documents per cluster:\")\n",
    "order_centroids2A2 = km2A2.cluster_centers_.argsort()[:, ::-1]\n",
    "\n",
    "for i in range(NUMBER_OF_CLUSTERS):\n",
    "    top_ten_words2A2 = [terms2A2[ind] for ind in order_centroids2A2[i, :5]]\n",
    "    print(\"Cluster {}: {}\".format(i, ' '.join(top_ten_words2A2)))"
   ]
  },
  {
   "cell_type": "markdown",
   "metadata": {},
   "source": [
    "<h5>(2) Approach 3 - Doc2Vec Vectorization with Kmeans with documents as Objects</h5>"
   ]
  },
  {
   "cell_type": "code",
   "execution_count": 111,
   "metadata": {},
   "outputs": [
    {
     "name": "stdout",
     "output_type": "stream",
     "text": [
      "\n",
      "\t\tDoc2Vec Vectorization with Kmeans with documents as Objects\n"
     ]
    }
   ],
   "source": [
    "# train_corpus using TaggedDocument\n",
    "train_corpus = [TaggedDocument(doc, [i]) for i, doc in enumerate(documents)]\n",
    "\n",
    "print(\"\\n\\t\\tDoc2Vec Vectorization with Kmeans with documents as Objects\")\n",
    "\n",
    "# Doc2Vec Vectorization\n",
    "doc2vec2A3_model = Doc2Vec(vector_size = 50, window = 4, min_count = 2, workers = cores, epochs = 40)\n",
    "doc2vec2A3_model.build_vocab(train_corpus)\n",
    "doc2vec2A3_model.train(train_corpus, total_examples = doc2vec2A3_model.corpus_count, epochs = doc2vec2A3_model.epochs)\n"
   ]
  },
  {
   "cell_type": "code",
   "execution_count": 160,
   "metadata": {},
   "outputs": [
    {
     "name": "stdout",
     "output_type": "stream",
     "text": [
      "Doc2vec Vectorization with Kmeans with documents as Objects clusters: Green - Cluster 0, Yellow - Cluster 1\n"
     ]
    },
    {
     "data": {
      "image/png": "[encoded data removed]",
      "text/plain": [
       "<Figure size 432x288 with 1 Axes>"
      ]
     },
     "metadata": {
      "needs_background": "light"
     },
     "output_type": "display_data"
    }
   ],
   "source": [
    "kmeans_model = KMeans(n_clusters=2, init='k-means++', max_iter=100) \n",
    "X = kmeans_model.fit(doc2vec2A3_model.docvecs.vectors_docs)\n",
    "labels2A3=kmeans_model.labels_.tolist()\n",
    "\n",
    "datapoint = doc2vec2A3_model.docvecs.vectors_docs\n",
    "\n",
    "green_patch = mpatches.Patch(color=\"#FFFF00\", label='Cluster 0')\n",
    "yellow_patch = mpatches.Patch(color='#008000', label='Cluster 1')\n",
    "\n",
    "\n",
    "print(\"Doc2vec Vectorization with Kmeans with documents as Objects clusters: Green - Cluster 0, Yellow - Cluster 1\")\n",
    "plt.figure\n",
    "cluster_colors = [\"#FFFF00\", \"#008000\"]\n",
    "color = [cluster_colors[i] for i in labels2A3]\n",
    "plt.scatter(datapoint[:, 0], datapoint[:, 1], c=color)\n",
    "plt.legend(handles=[green_patch, yellow_patch])\n",
    "plt.show()"
   ]
  },
  {
   "cell_type": "code",
   "execution_count": 114,
   "metadata": {},
   "outputs": [
    {
     "name": "stdout",
     "output_type": "stream",
     "text": [
      "2A3 Doc2vec with Kmeans with documents as Objects Top documents per cluster:\n",
      "Cluster 0: cproscons wregulatethemselves w2018crash cubercities nvehiclessafety\n",
      "Cluster 1: cproscons wregulatethemselves w2018crash cubercities treportdata\n"
     ]
    }
   ],
   "source": [
    "print(\"2A3 Doc2vec with Kmeans with documents as Objects Top documents per cluster:\")\n",
    "order_centroids2A3 = kmeans_model.cluster_centers_.argsort()[:, ::-1]\n",
    "\n",
    "for i in range(NUMBER_OF_CLUSTERS):\n",
    "    top_ten_words2A3 = [documents[ind] for ind in order_centroids2A3[i, :5]]\n",
    "    print(\"Cluster {}: {}\".format(i, ' '.join(top_ten_words2A3)))"
   ]
  },
  {
   "cell_type": "markdown",
   "metadata": {},
   "source": [
    "<h3>(3) Using matrices for Approaches 1, 2, and 3, perform multidimensional scaling with documents \n",
    "as objects. Visualize the multidimensional scaling solutions in two-space, labeling points \n",
    "with document names. Identify clusters from the K-means clustering with colored points, providing \n",
    "a legend on the visualization. Use t-distributed stochastic neighbor embedding (t-SNE) for the multidimensional scaling. \n",
    "If there is a large number of documents, plot a sample of the documents. Describe the results. </h3>"
   ]
  },
  {
   "cell_type": "markdown",
   "metadata": {},
   "source": [
    "<h5>(3) Approach 1 - CountVectorizer with Kmeans + TSNE with documents as Objects</h5>"
   ]
  },
  {
   "cell_type": "code",
   "execution_count": 130,
   "metadata": {},
   "outputs": [
    {
     "name": "stdout",
     "output_type": "stream",
     "text": [
      "\n",
      "\t\tCountVectorizer + Kmeans + TSNE with documents as Objects\n"
     ]
    }
   ],
   "source": [
    "print('\\n\\t\\tCountVectorizer + Kmeans + TSNE with documents as Objects')\n",
    "\n",
    "count_vectorizer3A1 = CountVectorizer(ngram_range = (1, MAX_NGRAM_LENGTH), max_features = VECTOR_LENGTH)\n",
    "count_vectors_matrix3A1 = count_vectorizer2A1.fit_transform(documents)\n",
    "\n",
    "kmCV3A1 = KMeans(n_clusters=NUMBER_OF_CLUSTERS, random_state=89)\n",
    "kmCV3A1.fit(count_vectors_matrix2A1)\n",
    "\n",
    "\n",
    "clustersCv3A1 = kmCV2A1.labels_.tolist()\n",
    "centroids = kmCV3A1.cluster_centers_"
   ]
  },
  {
   "cell_type": "code",
   "execution_count": 158,
   "metadata": {},
   "outputs": [
    {
     "name": "stdout",
     "output_type": "stream",
     "text": [
      "\n",
      "TSNE of CountVectorizer  + Kmeans \n",
      "[t-SNE] Computing 7 nearest neighbors...\n",
      "[t-SNE] Indexed 822 samples in 0.000s...\n",
      "[t-SNE] Computed neighbors for 822 samples in 0.017s...\n",
      "[t-SNE] Computed conditional probabilities for sample 822 / 822\n",
      "[t-SNE] Mean sigma: 0.000000\n",
      "[t-SNE] KL divergence after 250 iterations with early exaggeration: 103.911362\n",
      "[t-SNE] KL divergence after 1000 iterations: 1.920109\n"
     ]
    },
    {
     "data": {
      "image/png": "[encoded data removed]",
      "text/plain": [
       "<Figure size 432x288 with 1 Axes>"
      ]
     },
     "metadata": {
      "needs_background": "light"
     },
     "output_type": "display_data"
    }
   ],
   "source": [
    "print('\\nTSNE of CountVectorizer  + Kmeans ')\n",
    "tsne_perplexity = 20.0\n",
    "tsne_early_exaggeration = 4.0\n",
    "tsne_learning_rate = 1000\n",
    "random_state = 1\n",
    "model =  TSNE(n_components=2, verbose=1, perplexity=2.0, n_iter=1000)\n",
    "\n",
    "transformed_centroids = model.fit_transform(count_vectors_matrix3A1)\n",
    "\n",
    "green_patch = mpatches.Patch(color=\"#FFFF00\", label='Cluster 0')\n",
    "yellow_patch = mpatches.Patch(color='#008000', label='Cluster 1')\n",
    "\n",
    "cluster_colors = [\"#FFFF00\", \"#008000\"]\n",
    "color = [cluster_colors[i] for i in clustersCv3A1]\n",
    "\n",
    "plt.scatter(transformed_centroids[:, 0], transformed_centroids[:, 1], c=color)\n",
    "plt.legend(handles=[green_patch, yellow_patch])\n",
    "plt.show()"
   ]
  },
  {
   "cell_type": "markdown",
   "metadata": {},
   "source": [
    "<h5>(3) Approach 2 -  TF-IDF Vectorizer with Kmeans + TSNE with documents as Objects</h5>"
   ]
  },
  {
   "cell_type": "code",
   "execution_count": 155,
   "metadata": {},
   "outputs": [
    {
     "name": "stdout",
     "output_type": "stream",
     "text": [
      "[t-SNE] Computing 121 nearest neighbors...\n",
      "[t-SNE] Indexed 822 samples in 0.000s...\n",
      "[t-SNE] Computed neighbors for 822 samples in 0.013s...\n",
      "[t-SNE] Computed conditional probabilities for sample 822 / 822\n",
      "[t-SNE] Mean sigma: 0.000000\n",
      "[t-SNE] KL divergence after 250 iterations with early exaggeration: 55.251217\n",
      "[t-SNE] KL divergence after 750 iterations: 0.282450\n",
      "TF-IDF Vectorization with Kmeans with documents as Objects clusters: Green - Cluster 0, Yellow - Cluster 1\n"
     ]
    },
    {
     "data": {
      "image/png": "[encoded data removed]",
      "text/plain": [
       "<Figure size 432x288 with 1 Axes>"
      ]
     },
     "metadata": {
      "needs_background": "light"
     },
     "output_type": "display_data"
    }
   ],
   "source": [
    "tfidf3A2 = TfidfVectorizer(ngram_range=(1,1), min_df=0.0025)\n",
    "tfidf3A2_matrix = tfidf2A2.fit_transform(documents)\n",
    "\n",
    "kmeans_model = KMeans(n_clusters=2, init='k-means++', max_iter=100) \n",
    "X = kmeans_model.fit(tfidf3A2_matrix)\n",
    "labels3A2=kmeans_model.labels_.tolist()\n",
    "\n",
    "\n",
    "tsne = TSNE(n_components=2, verbose=1, perplexity=40, n_iter=1000)\n",
    "tsne_results = tsne.fit_transform(tfidf2A2_matrix)\n",
    "\n",
    "green_patch = mpatches.Patch(color=\"#FFFF00\", label='Cluster 0')\n",
    "yellow_patch = mpatches.Patch(color='#008000', label='Cluster 1')\n",
    "\n",
    "print(\"TF-IDF Vectorization with Kmeans with documents as Objects clusters: Green - Cluster 0, Yellow - Cluster 1\")\n",
    "plt.figure\n",
    "cluster_colors = [\"#FFFF00\", \"#008000\"]\n",
    "color = [cluster_colors[i] for i in labels3A2]\n",
    "plt.scatter(tsne_results[:, 0], tsne_results[:, 1], c=color)\n",
    "plt.legend(handles=[green_patch, yellow_patch])\n",
    "plt.show()"
   ]
  },
  {
   "cell_type": "markdown",
   "metadata": {},
   "source": [
    "<h5>(3) Approach 3 -  Doc2Vec Vectorizer with Kmeans + TSNE with documents as Objects</h5>"
   ]
  },
  {
   "cell_type": "code",
   "execution_count": 153,
   "metadata": {},
   "outputs": [
    {
     "name": "stdout",
     "output_type": "stream",
     "text": [
      "[t-SNE] Computing 121 nearest neighbors...\n",
      "[t-SNE] Indexed 822 samples in 0.004s...\n",
      "[t-SNE] Computed neighbors for 822 samples in 0.056s...\n",
      "[t-SNE] Computed conditional probabilities for sample 822 / 822\n",
      "[t-SNE] Mean sigma: 0.023695\n",
      "[t-SNE] KL divergence after 250 iterations with early exaggeration: 62.597897\n",
      "[t-SNE] KL divergence after 1000 iterations: 0.742806\n",
      "Doc2Vec Vectorization with Kmeans TSNE with documents as Objects clusters: Green - Cluster 0, Yellow - Cluster 1\n"
     ]
    },
    {
     "data": {
      "image/png": "[encoded data removed]",
      "text/plain": [
       "<Figure size 432x288 with 1 Axes>"
      ]
     },
     "metadata": {
      "needs_background": "light"
     },
     "output_type": "display_data"
    }
   ],
   "source": [
    "import matplotlib.patches as mpatches\n",
    "kmeans_model = KMeans(n_clusters=2, init='k-means++', max_iter=100) \n",
    "X = kmeans_model.fit(doc2vec2A3_model.docvecs.vectors_docs)\n",
    "labels2A3=kmeans_model.labels_.tolist()\n",
    "\n",
    "tsne = TSNE(n_components=2, verbose=1, perplexity=40, n_iter=1000)\n",
    "datapoint = tsne.fit_transform(doc2vec2A3_model.docvecs.vectors_docs)\n",
    "\n",
    "print(\"Doc2Vec Vectorization with Kmeans TSNE with documents as Objects clusters: Green - Cluster 0, Yellow - Cluster 1\")\n",
    "plt.figure\n",
    "cluster_colors = [\"#FFFF00\", \"#008000\"]\n",
    "\n",
    "green_patch = mpatches.Patch(color=\"#FFFF00\", label='Cluster 0')\n",
    "yellow_patch = mpatches.Patch(color='#008000', label='Cluster 1')\n",
    "\n",
    "color = [cluster_colors[i] for i in labels2A3]\n",
    "plt.scatter(datapoint[:, 0], datapoint[:, 1], c=color)\n",
    "plt.legend(handles=[green_patch, yellow_patch])\n",
    "plt.show()"
   ]
  },
  {
   "cell_type": "markdown",
   "metadata": {},
   "source": [
    "<h3>(5) Using matrices for Approaches 1 and 2, perform multidimensional scaling (t-SNE) with terms as objects. \n",
    "Visualize the multidimensional scaling solutions in \n",
    "two-space, labeling points as terms. Describe the results.</h3>"
   ]
  },
  {
   "cell_type": "markdown",
   "metadata": {},
   "source": [
    "<h5>Approach 1: Count Vectorization with K-Means + TSNE Terms as objects</h5>"
   ]
  },
  {
   "cell_type": "code",
   "execution_count": 182,
   "metadata": {},
   "outputs": [
    {
     "name": "stdout",
     "output_type": "stream",
     "text": [
      "\n",
      "\t\tCount Vectorization with K-Means + TSNE Terms as objects\n"
     ]
    }
   ],
   "source": [
    "# Count Vectorization\n",
    "print('\\n\\t\\tCount Vectorization with K-Means + TSNE Terms as objects')\n",
    "\n",
    "count_vectorizer = CountVectorizer(ngram_range = (1, MAX_NGRAM_LENGTH), max_features = VECTOR_LENGTH)\n",
    "count_vectors_matrix = count_vectorizer.fit_transform(final_processed_text)\n",
    "kmCV = KMeans(n_clusters=2, random_state=89)\n",
    "kmCV.fit(count_vectors_matrix)\n",
    "clustersCv = kmCV.labels_.tolist()\n",
    "\n",
    "y1 = clustersCv\n",
    "X1 = count_vectors_matrix\n",
    "\n",
    "termsCv = count_vectorizer.get_feature_names()\n"
   ]
  },
  {
   "cell_type": "code",
   "execution_count": 184,
   "metadata": {},
   "outputs": [
    {
     "data": {
      "text/html": [
       "<div>\n",
       "<style scoped>\n",
       "    .dataframe tbody tr th:only-of-type {\n",
       "        vertical-align: middle;\n",
       "    }\n",
       "\n",
       "    .dataframe tbody tr th {\n",
       "        vertical-align: top;\n",
       "    }\n",
       "\n",
       "    .dataframe thead th {\n",
       "        text-align: right;\n",
       "    }\n",
       "</style>\n",
       "<table border=\"1\" class=\"dataframe\">\n",
       "  <thead>\n",
       "    <tr style=\"text-align: right;\">\n",
       "      <th></th>\n",
       "      <th>Cluster</th>\n",
       "      <th>FileName</th>\n",
       "      <th>Text</th>\n",
       "      <th>Category</th>\n",
       "    </tr>\n",
       "  </thead>\n",
       "  <tbody>\n",
       "    <tr>\n",
       "      <th>0</th>\n",
       "      <td>1</td>\n",
       "      <td>nvehiclessafety</td>\n",
       "      <td>driver assistance technology motor vehicle alr...</td>\n",
       "      <td>technology</td>\n",
       "    </tr>\n",
       "    <tr>\n",
       "      <th>1</th>\n",
       "      <td>0</td>\n",
       "      <td>wmostmiles</td>\n",
       "      <td>time human safety operator control selfdriving...</td>\n",
       "      <td>safety</td>\n",
       "    </tr>\n",
       "    <tr>\n",
       "      <th>2</th>\n",
       "      <td>0</td>\n",
       "      <td>wdrivingcars</td>\n",
       "      <td>since internet search company named google beg...</td>\n",
       "      <td>safety</td>\n",
       "    </tr>\n",
       "    <tr>\n",
       "      <th>3</th>\n",
       "      <td>0</td>\n",
       "      <td>wunpredictablehumans</td>\n",
       "      <td>happen city company testing selfdriving probab...</td>\n",
       "      <td>safety</td>\n",
       "    </tr>\n",
       "    <tr>\n",
       "      <th>4</th>\n",
       "      <td>1</td>\n",
       "      <td>cproscons</td>\n",
       "      <td>ushering decreased ownership narrowing street ...</td>\n",
       "      <td>technology</td>\n",
       "    </tr>\n",
       "  </tbody>\n",
       "</table>\n",
       "</div>"
      ],
      "text/plain": [
       "   Cluster              FileName  \\\n",
       "0        1       nvehiclessafety   \n",
       "1        0            wmostmiles   \n",
       "2        0          wdrivingcars   \n",
       "3        0  wunpredictablehumans   \n",
       "4        1             cproscons   \n",
       "\n",
       "                                                Text    Category  \n",
       "0  driver assistance technology motor vehicle alr...  technology  \n",
       "1  time human safety operator control selfdriving...      safety  \n",
       "2  since internet search company named google beg...      safety  \n",
       "3  happen city company testing selfdriving probab...      safety  \n",
       "4  ushering decreased ownership narrowing street ...  technology  "
      ]
     },
     "execution_count": 184,
     "metadata": {},
     "output_type": "execute_result"
    }
   ],
   "source": [
    "cv_dictionary = {'FileName':documents, 'Cluster':clustersCv,  'Text': final_processed_text}\n",
    "cv_df = pd.DataFrame(cv_dictionary, columns=['Cluster', 'FileName','Text'])\n",
    "cv_df['Category'] = ((cv_df.Cluster)).map(cluster_dict)\n",
    "    \n",
    "cv_df.head(5)"
   ]
  },
  {
   "cell_type": "code",
   "execution_count": 200,
   "metadata": {},
   "outputs": [
    {
     "name": "stdout",
     "output_type": "stream",
     "text": [
      "Top Terms for CountVectorizer Kmeans per cluster:\n",
      "Cluster 0:\n",
      " vehicle\n",
      " selfdriving\n",
      " company\n",
      " autonomous\n",
      " technology\n",
      " testing\n",
      " safety\n",
      " public\n",
      " driver\n",
      " waymo\n",
      "Cluster 1:\n",
      " vehicle\n",
      " safety\n",
      " selfdriving\n",
      " technology\n",
      " autonomous\n",
      " crash\n",
      " automated\n",
      " driver\n",
      " human\n",
      " company\n"
     ]
    }
   ],
   "source": [
    "print(\"Top Terms for CountVectorizer Kmeans per cluster:\")\n",
    "\n",
    "#sort cluster centers by proximity to centroid\n",
    "order_centroidsCV = kmCV.cluster_centers_.argsort()[:, ::-1]\n",
    "\n",
    "terms_dict1 = []\n",
    "cluster_terms1 = {}\n",
    "cluster_title1 = {}\n",
    "\n",
    "for i in range(2):    \n",
    "    print(\"Cluster %d:\" % i),    \n",
    "    temp_terms1 = []    \n",
    "    temp_titles1 = []    \n",
    "    for ind in order_centroidsCV[i, :10]:        \n",
    "        print(' %s' % termsCv[ind])        \n",
    "        terms_dict1.append(termsCv[ind])        \n",
    "        temp_terms1.append(termsCv[ind])    \n",
    "    cluster_terms1[i] = temp_terms1   "
   ]
  },
  {
   "cell_type": "code",
   "execution_count": 201,
   "metadata": {},
   "outputs": [
    {
     "name": "stdout",
     "output_type": "stream",
     "text": [
      "\n",
      "TSNE of CountVectorizer  + Kmeans \n",
      "[t-SNE] Computing 7 nearest neighbors...\n",
      "[t-SNE] Indexed 822 samples in 0.001s...\n",
      "[t-SNE] Computed neighbors for 822 samples in 0.048s...\n",
      "[t-SNE] Computed conditional probabilities for sample 822 / 822\n",
      "[t-SNE] Mean sigma: 0.000000\n",
      "[t-SNE] KL divergence after 250 iterations with early exaggeration: 83.019913\n",
      "[t-SNE] KL divergence after 1000 iterations: 0.983530\n"
     ]
    },
    {
     "data": {
      "image/png": "[encoded data removed]",
      "text/plain": [
       "<Figure size 432x288 with 1 Axes>"
      ]
     },
     "metadata": {
      "needs_background": "light"
     },
     "output_type": "display_data"
    }
   ],
   "source": [
    "print('\\nTSNE of CountVectorizer  + Kmeans ')\n",
    "tsne_perplexity = 20.0\n",
    "tsne_early_exaggeration = 4.0\n",
    "tsne_learning_rate = 1000\n",
    "random_state = 1\n",
    "model =  TSNE(n_components=2, verbose=1, perplexity=2.0, n_iter=1000)\n",
    "\n",
    "transformed_centroids = model.fit_transform(count_vectors_matrix)\n",
    "\n",
    "green_patch = mpatches.Patch(color=\"#FFFF00\", label='Cluster 0')\n",
    "yellow_patch = mpatches.Patch(color='#008000', label='Cluster 1')\n",
    "\n",
    "cluster_colors = [\"#FFFF00\", \"#008000\"]\n",
    "color = [cluster_colors[i] for i in clustersCv]\n",
    "\n",
    "plt.scatter(transformed_centroids[:, 0], transformed_centroids[:, 1], c=color)\n",
    "plt.legend(handles=[green_patch, yellow_patch])\n",
    "plt.show()"
   ]
  },
  {
   "cell_type": "markdown",
   "metadata": {},
   "source": [
    "<h5>Approach 2: TF-IDF Vectorization with K-Means + TSNE Terms as objects</h5>"
   ]
  },
  {
   "cell_type": "code",
   "execution_count": 197,
   "metadata": {},
   "outputs": [
    {
     "name": "stdout",
     "output_type": "stream",
     "text": [
      "\n",
      "TF-IDF Vectorization K Means vectorization. . .\n"
     ]
    }
   ],
   "source": [
    "##############################\n",
    "### TF-IDF Vectorization\n",
    "##############################\n",
    "# run tfidf (prevalent - require 25% of docs)\n",
    "\n",
    "print('\\nTF-IDF Vectorization K Means vectorization. . .')\n",
    "\n",
    "tfidf1 = TfidfVectorizer(ngram_range=(1,1))\n",
    "tfidf1_matrix = tfidf1.fit_transform(final_processed_text)\n",
    "\n",
    "k=2\n",
    "km2 = KMeans(n_clusters=k, random_state=89)\n",
    "km2.fit(tfidf1_matrix)\n",
    "clusters1 = km2.labels_.tolist()\n",
    "\n",
    "\n",
    "terms2 = tfidf1.get_feature_names()"
   ]
  },
  {
   "cell_type": "code",
   "execution_count": 198,
   "metadata": {},
   "outputs": [
    {
     "data": {
      "text/html": [
       "<div>\n",
       "<style scoped>\n",
       "    .dataframe tbody tr th:only-of-type {\n",
       "        vertical-align: middle;\n",
       "    }\n",
       "\n",
       "    .dataframe tbody tr th {\n",
       "        vertical-align: top;\n",
       "    }\n",
       "\n",
       "    .dataframe thead th {\n",
       "        text-align: right;\n",
       "    }\n",
       "</style>\n",
       "<table border=\"1\" class=\"dataframe\">\n",
       "  <thead>\n",
       "    <tr style=\"text-align: right;\">\n",
       "      <th></th>\n",
       "      <th>Cluster</th>\n",
       "      <th>FileName</th>\n",
       "      <th>Text</th>\n",
       "      <th>Category</th>\n",
       "    </tr>\n",
       "  </thead>\n",
       "  <tbody>\n",
       "    <tr>\n",
       "      <th>817</th>\n",
       "      <td>0</td>\n",
       "      <td>cgrantdevelopment</td>\n",
       "      <td>filed underthe uniquely positioned need strate...</td>\n",
       "      <td>safety</td>\n",
       "    </tr>\n",
       "    <tr>\n",
       "      <th>818</th>\n",
       "      <td>0</td>\n",
       "      <td>ccompanyfuture</td>\n",
       "      <td>filed underflying taxi busesthere splashy anno...</td>\n",
       "      <td>safety</td>\n",
       "    </tr>\n",
       "    <tr>\n",
       "      <th>819</th>\n",
       "      <td>0</td>\n",
       "      <td>coakridge</td>\n",
       "      <td>filed underhow knoxville environs became hotsp...</td>\n",
       "      <td>safety</td>\n",
       "    </tr>\n",
       "    <tr>\n",
       "      <th>820</th>\n",
       "      <td>0</td>\n",
       "      <td>cshuttledriverless</td>\n",
       "      <td>filed undercolumbus launch downtown driverless...</td>\n",
       "      <td>safety</td>\n",
       "    </tr>\n",
       "    <tr>\n",
       "      <th>821</th>\n",
       "      <td>0</td>\n",
       "      <td>cdrinkright</td>\n",
       "      <td>filed featuring thing place visit around world...</td>\n",
       "      <td>safety</td>\n",
       "    </tr>\n",
       "  </tbody>\n",
       "</table>\n",
       "</div>"
      ],
      "text/plain": [
       "     Cluster            FileName  \\\n",
       "817        0   cgrantdevelopment   \n",
       "818        0      ccompanyfuture   \n",
       "819        0           coakridge   \n",
       "820        0  cshuttledriverless   \n",
       "821        0         cdrinkright   \n",
       "\n",
       "                                                  Text Category  \n",
       "817  filed underthe uniquely positioned need strate...   safety  \n",
       "818  filed underflying taxi busesthere splashy anno...   safety  \n",
       "819  filed underhow knoxville environs became hotsp...   safety  \n",
       "820  filed undercolumbus launch downtown driverless...   safety  \n",
       "821  filed featuring thing place visit around world...   safety  "
      ]
     },
     "execution_count": 198,
     "metadata": {},
     "output_type": "execute_result"
    }
   ],
   "source": [
    "tf1_dictionary = {'FileName':documents, 'Cluster':clusters1,  'Text': final_processed_text}\n",
    "tf1_df = pd.DataFrame(tf1_dictionary, columns=['Cluster', 'FileName','Text'])\n",
    "tf1_df['Category'] = ((tf1_df.Cluster)).map(cluster_dict)\n",
    "    \n",
    "tf1_df.tail(5)"
   ]
  },
  {
   "cell_type": "code",
   "execution_count": 199,
   "metadata": {},
   "outputs": [
    {
     "name": "stdout",
     "output_type": "stream",
     "text": [
      "Top Terms per cluster:\n",
      "Cluster 0:\n",
      " vehicle\n",
      " selfdriving\n",
      " autonomous\n",
      " company\n",
      " safety\n",
      " waymo\n",
      " technology\n",
      " testing\n",
      " driver\n",
      " human\n",
      "Cluster 1:\n",
      " parking\n",
      " space\n",
      " garage\n",
      " empty\n",
      " people\n",
      " development\n",
      " urban\n",
      " planning\n",
      " tierney\n",
      " vehicle\n"
     ]
    }
   ],
   "source": [
    "print(\"Top Terms per TF_IDF Kmeans cluster:\")\n",
    "\n",
    "#sort cluster centers by proximity to centroid\n",
    "order_centroids2 = km2.cluster_centers_.argsort()[:, ::-1]\n",
    "\n",
    "terms_dict2 = []\n",
    "cluster_terms2 = {}\n",
    "cluster_title2 = {}\n",
    "\n",
    "for i in range(k):    \n",
    "    print(\"Cluster %d:\" % i),    \n",
    "    temp_terms2 = []    \n",
    "    temp_titles2 = []    \n",
    "    for ind in order_centroids2[i, :10]:        \n",
    "        print(' %s' % terms2[ind])        \n",
    "        terms_dict2.append(terms2[ind])        \n",
    "        temp_terms2.append(terms2[ind])    \n",
    "    cluster_terms2[i] = temp_terms2   "
   ]
  },
  {
   "cell_type": "code",
   "execution_count": 202,
   "metadata": {},
   "outputs": [
    {
     "name": "stdout",
     "output_type": "stream",
     "text": [
      "\n",
      "TSNE of TF-IDF Vectorizer  + Kmeans \n",
      "[t-SNE] Computing 7 nearest neighbors...\n",
      "[t-SNE] Indexed 822 samples in 0.002s...\n",
      "[t-SNE] Computed neighbors for 822 samples in 0.090s...\n",
      "[t-SNE] Computed conditional probabilities for sample 822 / 822\n",
      "[t-SNE] Mean sigma: 0.000000\n",
      "[t-SNE] KL divergence after 250 iterations with early exaggeration: 89.213158\n",
      "[t-SNE] KL divergence after 1000 iterations: 1.007348\n"
     ]
    },
    {
     "data": {
      "image/png": "[encoded data removed]",
      "text/plain": [
       "<Figure size 432x288 with 1 Axes>"
      ]
     },
     "metadata": {
      "needs_background": "light"
     },
     "output_type": "display_data"
    }
   ],
   "source": [
    "print('\\nTSNE of TF-IDF Vectorizer  + Kmeans ')\n",
    "tsne_perplexity = 20.0\n",
    "tsne_early_exaggeration = 4.0\n",
    "tsne_learning_rate = 1000\n",
    "random_state = 1\n",
    "model =  TSNE(n_components=2, verbose=1, perplexity=2.0, n_iter=1000)\n",
    "\n",
    "transformed_centroids = model.fit_transform(tfidf1_matrix)\n",
    "\n",
    "green_patch = mpatches.Patch(color=\"#FFFF00\", label='Cluster 0')\n",
    "yellow_patch = mpatches.Patch(color='#008000', label='Cluster 1')\n",
    "\n",
    "cluster_colors = [\"#FFFF00\", \"#008000\"]\n",
    "color = [cluster_colors[i] for i in clusters1]\n",
    "\n",
    "plt.scatter(transformed_centroids[:, 0], transformed_centroids[:, 1], c=color)\n",
    "plt.legend(handles=[green_patch, yellow_patch])\n",
    "plt.show()"
   ]
  },
  {
   "cell_type": "code",
   "execution_count": null,
   "metadata": {},
   "outputs": [],
   "source": []
  }
 ],
 "metadata": {
  "kernelspec": {
   "display_name": "Python 3",
   "language": "python",
   "name": "python3"
  },
  "language_info": {
   "codemirror_mode": {
    "name": "ipython",
    "version": 3
   },
   "file_extension": ".py",
   "mimetype": "text/x-python",
   "name": "python",
   "nbconvert_exporter": "python",
   "pygments_lexer": "ipython3",
   "version": "3.7.7"
  }
 },
 "nbformat": 4,
 "nbformat_minor": 4
}
